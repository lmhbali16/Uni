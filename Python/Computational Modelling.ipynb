{
 "cells": [
  {
   "cell_type": "markdown",
   "metadata": {},
   "source": [
    "# COSC2902 Assignment 1: "
   ]
  },
  {
   "cell_type": "markdown",
   "metadata": {},
   "source": [
    "Unikey: smcm7233, mile3901\n",
    "\n",
    "SID: 480379414, 480133780"
   ]
  },
  {
   "cell_type": "markdown",
   "metadata": {},
   "source": [
    "## Question 1: Zombie Simulation"
   ]
  },
  {
   "cell_type": "code",
   "execution_count": 2,
   "metadata": {},
   "outputs": [],
   "source": [
    "import numpy as np\n",
    "import pandas as pd\n",
    "import matplotlib.pyplot as plt\n",
    "import time\n",
    "import scipy.integrate as integrate"
   ]
  },
  {
   "cell_type": "code",
   "execution_count": 40,
   "metadata": {},
   "outputs": [],
   "source": [
    "class Person:\n",
    "    def __init__(self, x, y, zombie = False):\n",
    "        self.zombie = zombie\n",
    "        self.x = x\n",
    "        self.y = y\n",
    "        "
   ]
  },
  {
   "cell_type": "code",
   "execution_count": 41,
   "metadata": {},
   "outputs": [],
   "source": [
    "class World:\n",
    "    def __init__(self, sidelength = 40, maxtime = 1000, pop = 100, remission = 0):\n",
    "        self.sidelength = sidelength\n",
    "        self.remission = remission\n",
    "        self.maxtime = maxtime\n",
    "        self.pop = pop\n",
    "        self.people = [Person(np.random.randint(0,sidelength),np.random.randint(0,sidelength)) for i in range(self.pop)]\n",
    "        self.time = 0\n",
    "        \n",
    "    def set_zombies(self, num_zoms):\n",
    "        for i in np.random.choice(self.people, num_zoms, replace=False):\n",
    "            i.zombie = True\n",
    "        return np.nan\n",
    "    \n",
    "    def get_zombies(self):\n",
    "        return [i for i in self.people if i.zombie == True]\n",
    "    \n",
    "    def get_people(self):\n",
    "        return [i for i in self.people if i.zombie == False]\n",
    "    \n",
    "    def get_time(self):\n",
    "        return self.time  \n",
    "\n",
    "    def zombie_pos(self):\n",
    "        tups = [[i.x,i.y] for i in self.people if i.zombie == True]\n",
    "        return tups\n",
    "        \n",
    "    def people_pos(self):\n",
    "        tups = [[i.x,i.y] for i in self.people if i.zombie == False]\n",
    "        return tups\n",
    "    \n",
    "    def move_step(self):\n",
    "        for i in self.people:\n",
    "            new_x_pos = i.x + np.random.choice([-1,0,1])\n",
    "            new_y_pos = i.y + np.random.choice([-1,0,1])\n",
    "\n",
    "            if new_x_pos == self.sidelength:\n",
    "                i.x = 0\n",
    "            elif new_x_pos == -1:\n",
    "                i.x = self.sidelength-1\n",
    "            else:\n",
    "                i.x = new_x_pos\n",
    "\n",
    "            if new_y_pos == self.sidelength:\n",
    "                i.y = 0\n",
    "            elif new_y_pos == -1:\n",
    "                i.y = self.sidelength-1\n",
    "            else:\n",
    "                i.y = new_y_pos\n",
    "                \n",
    "        self.time += 1\n",
    "\n",
    "    def infect(self):\n",
    "        for i in self.people:\n",
    "            if [int(i.x),int(i.y)] in [[int(j.x),int(j.y)] for j in self.get_zombies()]:\n",
    "                i.zombie = True \n",
    "\n",
    "        return np.nan\n",
    "    \n",
    "    def restore(self):\n",
    "        for i in [j for j in self.people if j.zombie == True]:\n",
    "            change = np.random.choice([1,0], p = [self.remission, 1-self.remission])\n",
    "            if change == 1:\n",
    "                i.zombie = False\n",
    "        return np.nan\n",
    "    \n",
    "            "
   ]
  },
  {
   "cell_type": "code",
   "execution_count": 48,
   "metadata": {},
   "outputs": [
    {
     "name": "stdout",
     "output_type": "stream",
     "text": [
      "1\n"
     ]
    },
    {
     "data": {
      "image/png": "[encoded data removed]",
      "text/plain": [
       "<Figure size 432x288 with 1 Axes>"
      ]
     },
     "metadata": {
      "needs_background": "light"
     },
     "output_type": "display_data"
    }
   ],
   "source": [
    "test = World(sidelength = 100)\n",
    "test.set_zombies(1)\n",
    "peop_x,peop_y = zip(*test.people_pos())\n",
    "plt.scatter(peop_x, peop_y, label = 'People')\n",
    "zom_x,zom_y = zip(*test.zombie_pos())\n",
    "plt.scatter(zom_x,zom_y, label = 'Zombies', c = 'g')\n",
    "plt.title('test simulation')\n",
    "#plt.legend(loc = 'centre')\n",
    "print(len(test.get_zombies()))"
   ]
  },
  {
   "cell_type": "code",
   "execution_count": 67,
   "metadata": {},
   "outputs": [
    {
     "data": {
      "text/plain": [
       "Text(0.5, 1.0, 'Test continued: T = 1900, Num. Zombies = 96')"
      ]
     },
     "execution_count": 67,
     "metadata": {},
     "output_type": "execute_result"
    },
    {
     "data": {
      "image/png": "[encoded data removed]",
      "text/plain": [
       "<Figure size 432x288 with 1 Axes>"
      ]
     },
     "metadata": {
      "needs_background": "light"
     },
     "output_type": "display_data"
    }
   ],
   "source": [
    "for i in range(100):\n",
    "    test.move_step()\n",
    "    test.infect()\n",
    "    test.restore()\n",
    "    \n",
    "peop_x,peop_y = zip(*test.people_pos())\n",
    "plt.scatter(peop_x, peop_y, label = 'People')\n",
    "zom_x,zom_y = zip(*test.zombie_pos())\n",
    "plt.scatter(zom_x,zom_y, label = 'Zombies', c = 'g')\n",
    "#plt.legend(loc = 'centre')\n",
    "plt.title(\"Test continued: T = {}, Num. Zombies = {}\".format(test.get_time(), len(test.get_zombies())))\n",
    "\n",
    "# Add condition for all people or all zombies here"
   ]
  },
  {
   "cell_type": "code",
   "execution_count": 6,
   "metadata": {},
   "outputs": [],
   "source": [
    "def run_sim_to_end(world_object):\n",
    "    \n",
    "    num_zombies_time = [0]\n",
    "    \n",
    "    while len(world_object.get_people()) != 0 and len(world_object.get_zombies()) != 0 and world_object.time <1000:\n",
    "        #print(len(world_object.get_zombies()),\"'\\'\")\n",
    "        world_object.move_step()\n",
    "        world_object.infect()\n",
    "        world_object.restore()\n",
    "        num_zombies_time.append(len(world_object.get_zombies()))\n",
    "        \n",
    "    if world_object.time == 1000:\n",
    "        print('An equillibrium has likely been reached.')\n",
    "\n",
    "    return world_object.get_time(), num_zombies_time\n",
    "\n",
    "\n",
    "def run_sim(world_object, days=100):\n",
    "    for i in range(days):\n",
    "        world_object.move_step()\n",
    "        world_object.infect()\n",
    "        world_object.restore()\n"
   ]
  },
  {
   "cell_type": "code",
   "execution_count": 7,
   "metadata": {},
   "outputs": [],
   "source": [
    "def plot_world(world_object):\n",
    "    \n",
    "    if len(world_object.get_people()) == 0:\n",
    "        zom_x,zom_y = zip(*world_object.zombie_pos())\n",
    "        plt.scatter(zom_x,zom_y, label = 'Zombies', c= 'g')\n",
    "        #plt.legend(loc = 'centre')\n",
    "        plt.title(\"T = {}, Num. Zombies = {}\".format(world_object.get_time(), len(world_object.get_zombies())))\n",
    "    \n",
    "    elif len(world_object.get_zombies()) == 0:\n",
    "        peop_x,peop_y = zip(*world_object.people_pos())\n",
    "        plt.scatter(peop_x, peop_y, label = 'People', c = 'b')    \n",
    "        plt.title(\"T = {}, Num. Zombies = {}\".format(world_object.get_time(), len(world_object.get_zombies())))\n",
    "        \n",
    "    else:\n",
    "        peop_x,peop_y = zip(*world_object.people_pos())\n",
    "        plt.scatter(peop_x, peop_y, label = 'People', c = 'b')\n",
    "        zom_x,zom_y = zip(*world_object.zombie_pos())\n",
    "        plt.scatter(zom_x,zom_y, label = 'Zombies', c= 'g')\n",
    "        #plt.legend(loc = 'centre')\n",
    "        plt.title(\"T = {}, Num. Zombies = {}\".format(world_object.get_time(), len(world_object.get_zombies())))"
   ]
  },
  {
   "cell_type": "code",
   "execution_count": 8,
   "metadata": {},
   "outputs": [
    {
     "name": "stdout",
     "output_type": "stream",
     "text": [
      "function test.\n"
     ]
    },
    {
     "data": {
      "image/png": "[encoded data removed]",
      "text/plain": [
       "<Figure size 432x288 with 1 Axes>"
      ]
     },
     "metadata": {
      "needs_background": "light"
     },
     "output_type": "display_data"
    }
   ],
   "source": [
    "earth = World(remission=0)\n",
    "earth.set_zombies(1)\n",
    "t,z = run_sim_to_end(earth)\n",
    "plot_world(earth)\n",
    "print('function test.')"
   ]
  },
  {
   "cell_type": "markdown",
   "metadata": {},
   "source": [
    "## Question 1"
   ]
  },
  {
   "cell_type": "markdown",
   "metadata": {},
   "source": [
    "**(1.1)** What is the average length of time until the last human gets infected? Provide also an estimate\n",
    "of the uncertainty in your value."
   ]
  },
  {
   "cell_type": "code",
   "execution_count": 9,
   "metadata": {},
   "outputs": [
    {
     "name": "stdout",
     "output_type": "stream",
     "text": [
      "Average full infection time = 183.2\n"
     ]
    }
   ],
   "source": [
    "full_infection_times = []\n",
    "zombie_nums = []\n",
    "\n",
    "#t1 = time.localtime()\n",
    "for i in range(10):\n",
    "    earth = World(sidelength=40)\n",
    "    earth.set_zombies(10)\n",
    "    t, zombies = run_sim_to_end(earth)\n",
    "    full_infection_times.append(t)\n",
    "    zombie_nums.append(zombies)\n",
    "\n",
    "#t2 = time.localtime()    \n",
    "\n",
    "print('Average full infection time =', np.mean(full_infection_times))\n",
    "#print(t1)\n",
    "#print(t2)\n",
    "\n"
   ]
  },
  {
   "cell_type": "code",
   "execution_count": 10,
   "metadata": {},
   "outputs": [
    {
     "name": "stdout",
     "output_type": "stream",
     "text": [
      "183.2 +/- 13.281566172707192\n"
     ]
    }
   ],
   "source": [
    "uncertainty = (np.max(full_infection_times)-np.min(full_infection_times))/(2*np.sqrt(len(full_infection_times)))\n",
    "print(np.mean(full_infection_times), '+/-',uncertainty)"
   ]
  },
  {
   "cell_type": "markdown",
   "metadata": {},
   "source": [
    "**(1.2)** Averaging over many runs: Plot the number of zombies as a function of time."
   ]
  },
  {
   "cell_type": "code",
   "execution_count": 11,
   "metadata": {},
   "outputs": [],
   "source": [
    "#for 100 runs plot ave num zombes at time t\n",
    "full_infection_times = []\n",
    "zombie_nums = []\n",
    "\n",
    "#t1 = time.localtime()\n",
    "for i in range(10):\n",
    "    earth = World(sidelength=40)\n",
    "    earth.set_zombies(1)\n",
    "    t, zoms = run_sim_to_end(earth)\n",
    "    full_infection_times.append(t)\n",
    "    zombie_nums.append(zoms)\n",
    "\n",
    "#t2 = time.localtime()    "
   ]
  },
  {
   "cell_type": "code",
   "execution_count": 12,
   "metadata": {
    "scrolled": true
   },
   "outputs": [
    {
     "data": {
      "text/plain": [
       "Text(0.5, 1.0, 'Average Zombies over time')"
      ]
     },
     "execution_count": 12,
     "metadata": {},
     "output_type": "execute_result"
    },
    {
     "data": {
      "image/png": "[encoded data removed]",
      "text/plain": [
       "<Figure size 432x288 with 1 Axes>"
      ]
     },
     "metadata": {
      "needs_background": "light"
     },
     "output_type": "display_data"
    }
   ],
   "source": [
    "aves = [np.mean(i) for i in zip(*zombie_nums)]\n",
    "time = np.linspace(1,len(aves)+1, len(aves))\n",
    "\n",
    "plt.plot(time, aves)\n",
    "plt.title('Average Zombies over time')"
   ]
  },
  {
   "cell_type": "markdown",
   "metadata": {},
   "source": [
    "**(1.3)** Averaging over many runs: Plot the number of infections per day (the infection rate) as a function of the fraction of zombies in the population."
   ]
  },
  {
   "cell_type": "code",
   "execution_count": 13,
   "metadata": {},
   "outputs": [],
   "source": [
    "#difference function that returns difference\n",
    "def diff(ls):\n",
    "    diffs = [ls[i+1] - ls[i] for i in range(len(ls)-1)]\n",
    "    return diffs"
   ]
  },
  {
   "cell_type": "code",
   "execution_count": 14,
   "metadata": {},
   "outputs": [
    {
     "data": {
      "text/plain": [
       "Text(0.5, 1.0, 'Average Change in Zombies over time')"
      ]
     },
     "execution_count": 14,
     "metadata": {},
     "output_type": "execute_result"
    },
    {
     "data": {
      "image/png": "[encoded data removed]",
      "text/plain": [
       "<Figure size 432x288 with 1 Axes>"
      ]
     },
     "metadata": {
      "needs_background": "light"
     },
     "output_type": "display_data"
    }
   ],
   "source": [
    "deltas = diff(aves)\n",
    "time = np.linspace(0,len(deltas), len(deltas))\n",
    "plt.plot(time, deltas)\n",
    "plt.title('Average Change in Zombies over time')"
   ]
  },
  {
   "cell_type": "code",
   "execution_count": 15,
   "metadata": {},
   "outputs": [
    {
     "data": {
      "text/plain": [
       "Text(0.5, 1.0, 'Average Change in Zombies vs fraction of zombies')"
      ]
     },
     "execution_count": 15,
     "metadata": {},
     "output_type": "execute_result"
    },
    {
     "data": {
      "image/png": "[encoded data removed]",
      "text/plain": [
       "<Figure size 432x288 with 1 Axes>"
      ]
     },
     "metadata": {
      "needs_background": "light"
     },
     "output_type": "display_data"
    }
   ],
   "source": [
    "deltas = diff(aves)\n",
    "plt.plot(np.array(aves[:-1])/100, deltas)\n",
    "plt.title('Average Change in Zombies vs fraction of zombies')"
   ]
  },
  {
   "cell_type": "markdown",
   "metadata": {},
   "source": [
    "The trend appears to be negative parabola. Which makes sense. Since i is the first derivative of a cubic."
   ]
  },
  {
   "cell_type": "markdown",
   "metadata": {},
   "source": [
    "**(1.4)** Given your results in (1.3), postulate a discrete map for the zombie fraction (Z), i.e. Z n+1 = f (Z n , t n )."
   ]
  },
  {
   "cell_type": "markdown",
   "metadata": {},
   "source": [
    "The turning point of the infection rate is approximately n=0.5. This is the point at which half of the population is zombies and half are people. We infer from the plot that the infection rate is a parabola. From this infer that the potential discrete map is:\n",
    "\n",
    "Z(n+1) = Zn - (n - 0.5)^2 + 0.8\n",
    "\n",
    "Where n is the percentage of zombies. i.e. num_zombies/population.\n"
   ]
  },
  {
   "cell_type": "markdown",
   "metadata": {},
   "source": [
    "**(1.5)** If you halve the size of the world (i.e., set sidelength=20), how does this change the time it takes until the last human is infected? Briefly discuss the real-world implications of this result, e.g. in terms of how diseases such as tuberculosis spread in crowded hospitals and prisons."
   ]
  },
  {
   "cell_type": "code",
   "execution_count": 16,
   "metadata": {},
   "outputs": [],
   "source": [
    "full_infection_times = []\n",
    "zombie_nums = []\n",
    "\n",
    "for i in range(10):\n",
    "    earth = World(sidelength=20)\n",
    "    earth.set_zombies(1)\n",
    "    t, zoms = run_sim_to_end(earth)\n",
    "    full_infection_times.append(t)\n",
    "    zombie_nums.append(zoms)\n",
    "    \n",
    "aves = [np.mean(i) for i in zip(*zombie_nums)]\n",
    "time = np.linspace(1,len(aves)+1, len(aves))\n"
   ]
  },
  {
   "cell_type": "code",
   "execution_count": 17,
   "metadata": {},
   "outputs": [
    {
     "name": "stdout",
     "output_type": "stream",
     "text": [
      "Average days is 61\n"
     ]
    },
    {
     "data": {
      "text/plain": [
       "Text(0.5, 1.0, 'Average Zombies over time (World size = 20)')"
      ]
     },
     "execution_count": 17,
     "metadata": {},
     "output_type": "execute_result"
    },
    {
     "data": {
      "image/png": "[encoded data removed]",
      "text/plain": [
       "<Figure size 432x288 with 1 Axes>"
      ]
     },
     "metadata": {
      "needs_background": "light"
     },
     "output_type": "display_data"
    }
   ],
   "source": [
    "print(\"Average days is\", len(aves))\n",
    "plt.plot(time, aves)\n",
    "plt.title('Average Zombies over time (World size = 20)')"
   ]
  },
  {
   "cell_type": "markdown",
   "metadata": {},
   "source": [
    "#### Discussion of Real-World Implications:\n",
    "\n",
    "After running the simulation with a smaller world size, it is clear that the infection spreads much faster than on a larger map. We believe that this trend also exists in confined spaces, such as hospital wards or ships, leading to faster spread of disease. Thus, to slow down infection, one solution would be to spread out the people as much as possible in these environments."
   ]
  },
  {
   "cell_type": "markdown",
   "metadata": {},
   "source": [
    "**(1.6)** Using the original size of the world (sidelength=40), change the spontaneous zombie remission rate from 0 to 0.01 (i.e., every 100 days on average a given zombie will spontaneously return to being human). Discuss the new dynamics of the model, with reference to steady states and/or equilibrium points (if you wish, you can also include a graph of the number of zombies over time to illustrate your point). Be careful to identify all possible types of behaviour (a “type” being a qualitatively distinct behaviour)."
   ]
  },
  {
   "cell_type": "code",
   "execution_count": 18,
   "metadata": {},
   "outputs": [
    {
     "name": "stdout",
     "output_type": "stream",
     "text": [
      "An equillibrium has likely been reached.\n"
     ]
    },
    {
     "data": {
      "image/png": "[encoded data removed]",
      "text/plain": [
       "<Figure size 432x288 with 1 Axes>"
      ]
     },
     "metadata": {
      "needs_background": "light"
     },
     "output_type": "display_data"
    }
   ],
   "source": [
    "full_infection_times = []\n",
    "zombie_nums = []\n",
    "\n",
    "#t1 = time.localtime()\n",
    "for i in range(1):\n",
    "    earth = World(sidelength=40, remission=0.01)\n",
    "    earth.set_zombies(1)\n",
    "    t, zoms = run_sim_to_end(earth)\n",
    "    full_infection_times.append(t)\n",
    "    zombie_nums.append(zoms)\n",
    "    \n",
    "aves = [np.mean(i) for i in zip(*zombie_nums)]\n",
    "time = np.linspace(1,len(aves)+1, len(aves))\n",
    "\n",
    "plt.plot(time, aves)\n",
    "plt.title('Average Zombies over time')\n",
    "plt.show()\n"
   ]
  },
  {
   "cell_type": "markdown",
   "metadata": {},
   "source": [
    "With the inclusion of zombie remission, several scenarios appear due to the uncertainty of restoration (every 100 days). Four possible types of behaviour can occur.\n",
    "\n",
    "Types of Behaviour:\n",
    "- The initial zombie is cured before it infects anyone. The graph drops from 1 to zero.\n",
    "- Initially the zombie number increases but drops to zero.\n",
    "- The most often case is where the zombie number increases quickly to ~80 and then oscillates in the range [65,85]. This is an equillibrium between infection and remission.\n",
    "- Or finally, the zombie number increases and all are infected."
   ]
  },
  {
   "cell_type": "markdown",
   "metadata": {},
   "source": [
    "## Question 2: Bus Wait Times"
   ]
  },
  {
   "cell_type": "code",
   "execution_count": 24,
   "metadata": {},
   "outputs": [],
   "source": [
    "class passenger:\n",
    "    def __init__(self):\n",
    "        self.arrival_time = np.nan\n",
    "        self.wait_time = np.nan   "
   ]
  },
  {
   "cell_type": "code",
   "execution_count": 25,
   "metadata": {},
   "outputs": [],
   "source": [
    "def diff(ls):\n",
    "    diffs = [ls[i+1] - ls[i] for i in range(len(ls)-1)]\n",
    "    return diffs"
   ]
  },
  {
   "cell_type": "markdown",
   "metadata": {},
   "source": [
    "**(2.1)**"
   ]
  },
  {
   "cell_type": "markdown",
   "metadata": {},
   "source": [
    "### Model 1"
   ]
  },
  {
   "cell_type": "code",
   "execution_count": 26,
   "metadata": {},
   "outputs": [
    {
     "name": "stdout",
     "output_type": "stream",
     "text": [
      "Ave bus arrival time 10.030150753768844\n",
      "Ave passenger wait time 9.246666666666666\n",
      "Nature of model is negative exponential\n"
     ]
    },
    {
     "data": {
      "image/png": "[encoded data removed]",
      "text/plain": [
       "<Figure size 432x288 with 1 Axes>"
      ]
     },
     "metadata": {
      "needs_background": "light"
     },
     "output_type": "display_data"
    }
   ],
   "source": [
    "buses = 200\n",
    "passengers = np.random.choice(range(5,11))*buses\n",
    "run_time = 10*buses\n",
    "bus_times = np.sort(np.append(np.random.choice(range(run_time), buses-1, replace = False),run_time))\n",
    "passenger_list = [passenger() for i in range(passengers)]\n",
    "for i in passenger_list:\n",
    "    i.arrival_time = np.random.choice(range(run_time))\n",
    "    s = bus_times - np.ones(len(bus_times))*i.arrival_time\n",
    "    t = np.where(s > -1)\n",
    "    i.wait_time = s[t][0]\n",
    "    \n",
    "bus_intervals = diff(bus_times)\n",
    "print('Ave bus arrival time', np.mean(bus_intervals))\n",
    "print('Ave passenger wait time', np.mean([i.wait_time for i in passenger_list]))\n",
    "plt.hist(bus_intervals)\n",
    "print('Nature of distribution is negative exponential')"
   ]
  },
  {
   "cell_type": "markdown",
   "metadata": {},
   "source": [
    "### Model 2"
   ]
  },
  {
   "cell_type": "code",
   "execution_count": 22,
   "metadata": {},
   "outputs": [
    {
     "name": "stdout",
     "output_type": "stream",
     "text": [
      "Ave bus arrival time 10.004067169689685\n",
      "Ave passenger wait time 5.002483486410301\n",
      "Nature of model is triangle like i.e. with tails too fat for a normal distribution. With an average of approximately 10.\n"
     ]
    },
    {
     "data": {
      "image/png": "[encoded data removed]",
      "text/plain": [
       "<Figure size 432x288 with 1 Axes>"
      ]
     },
     "metadata": {
      "needs_background": "light"
     },
     "output_type": "display_data"
    }
   ],
   "source": [
    "x = 5\n",
    "buses = 400\n",
    "passengers = np.random.choice(range(5,11))*buses\n",
    "run_time = 10*buses\n",
    "schedule_time = np.linspace(0,run_time, buses+1)\n",
    "offset_time_1 = [np.random.uniform(-x,x) for i in range(len(schedule_time))]\n",
    "actual_time = schedule_time + offset_time_1\n",
    "\n",
    "passenger_list = [passenger() for i in range(passengers)]\n",
    "for i in passenger_list:\n",
    "    i.arrival_time = np.random.choice(range(run_time))\n",
    "    s = actual_time - np.ones(len(actual_time))*i.arrival_time\n",
    "    t = np.where(s > -1)\n",
    "    i.wait_time = s[t][0]\n",
    "    \n",
    "bus_intervals = diff(actual_time)\n",
    "\n",
    "print('Ave bus arrival time', np.mean(bus_intervals))\n",
    "print('Ave passenger wait time', np.mean([i.wait_time for i in passenger_list]))\n",
    "plt.hist(bus_intervals)\n",
    "print('Nature of model is triangle like i.e. with tails too fat for a normal distribution. With an average of approximately 10.')"
   ]
  },
  {
   "cell_type": "markdown",
   "metadata": {},
   "source": [
    "### Model 3"
   ]
  },
  {
   "cell_type": "code",
   "execution_count": 27,
   "metadata": {},
   "outputs": [
    {
     "name": "stdout",
     "output_type": "stream",
     "text": [
      "Ave bus arrival time 10.002432595259\n",
      "Ave passenger wait time 5.519516769815899\n",
      "Nature of model is normal. With an average of approximately 10.\n"
     ]
    },
    {
     "data": {
      "image/png": "[encoded data removed]",
      "text/plain": [
       "<Figure size 432x288 with 1 Axes>"
      ]
     },
     "metadata": {
      "needs_background": "light"
     },
     "output_type": "display_data"
    }
   ],
   "source": [
    "sigma = 4\n",
    "buses = 400\n",
    "passengers = np.random.choice(range(5,11))*buses\n",
    "run_time = 10*buses\n",
    "schedule_time = np.linspace(0,run_time, buses+1)\n",
    "offset_time_2 = [np.random.normal(0,sigma) for i in range(len(schedule_time))]\n",
    "actual_time = schedule_time + offset_time_2\n",
    "\n",
    "passenger_list = [passenger() for i in range(passengers)]\n",
    "for i in passenger_list:\n",
    "    i.arrival_time = np.random.choice(range(run_time))\n",
    "    s = actual_time - np.ones(len(actual_time))*i.arrival_time\n",
    "    t = np.where(s > -1)\n",
    "    i.wait_time = s[t][0]\n",
    "    \n",
    "bus_intervals = diff(actual_time)\n",
    "\n",
    "print('Ave bus arrival time', np.mean(bus_intervals))\n",
    "print('Ave passenger wait time', np.mean([i.wait_time for i in passenger_list]))\n",
    "plt.hist(bus_intervals)\n",
    "print('Nature of model is normal. With an average of approximately 10.')"
   ]
  },
  {
   "cell_type": "markdown",
   "metadata": {},
   "source": [
    "**(2.2)**"
   ]
  },
  {
   "cell_type": "markdown",
   "metadata": {},
   "source": [
    "Model 2 - \n",
    " - Ave wait time: As x increases the average wait time increases.\n",
    " - Distribution: as x increases the range of the ditribtion is +/- 2x. The shape of the distribution is normal.\n",
    "\n",
    "\n",
    "Model 3 - \n",
    " - Ave wait time: As σ increases the average wait time increases.\n",
    " - Distribution: Normal in all cases. The range of the distribution increases as σ increases"
   ]
  },
  {
   "cell_type": "markdown",
   "metadata": {},
   "source": [
    "**(2.3)**"
   ]
  },
  {
   "cell_type": "markdown",
   "metadata": {},
   "source": [
    "i)"
   ]
  },
  {
   "cell_type": "code",
   "execution_count": 3,
   "metadata": {},
   "outputs": [],
   "source": [
    "route_1 = pd.read_csv('Route_1_minutes_late.csv', header= None)\n",
    "route_2 = pd.read_csv('Route_2_minutes_late.csv', header=None)"
   ]
  },
  {
   "cell_type": "code",
   "execution_count": 4,
   "metadata": {},
   "outputs": [
    {
     "name": "stdout",
     "output_type": "stream",
     "text": [
      "Average offset for route 1: 0.4127970284434953\n"
     ]
    },
    {
     "data": {
      "image/png": "[encoded data removed]",
      "text/plain": [
       "<Figure size 432x288 with 1 Axes>"
      ]
     },
     "metadata": {},
     "output_type": "display_data"
    }
   ],
   "source": [
    "plt.hist(route_1[0], bins = 40)\n",
    "print('Average offset for route 1:',np.mean(route_1[0]))"
   ]
  },
  {
   "cell_type": "code",
   "execution_count": 5,
   "metadata": {},
   "outputs": [
    {
     "name": "stdout",
     "output_type": "stream",
     "text": [
      "Average offset for route 2: 2.412317954985238\n",
      "2.412317954985238\n",
      "0    0.183333\n",
      "1    4.116667\n",
      "2   -0.100000\n",
      "3    4.383333\n",
      "4    3.850000\n",
      "Name: 0, dtype: float64\n"
     ]
    },
    {
     "data": {
      "image/png": "[encoded data removed]",
      "text/plain": [
       "<Figure size 432x288 with 1 Axes>"
      ]
     },
     "metadata": {},
     "output_type": "display_data"
    }
   ],
   "source": [
    "plt.hist(route_2[0], bins = 40)\n",
    "print('Average offset for route 2:', np.mean(route_2[0]))\n",
    "print(np.mean(route_2[0]))\n",
    "print(route_2[0].head())"
   ]
  },
  {
   "cell_type": "markdown",
   "metadata": {},
   "source": [
    "ii)"
   ]
  },
  {
   "cell_type": "markdown",
   "metadata": {},
   "source": [
    "Since the first model does not have bus time schedule we cnnot compare the lateness/earliness of the buses. However, for model 2 and 3 we can.\n",
    "\n",
    "Here is the schedule offset histogram for model 2:"
   ]
  },
  {
   "cell_type": "code",
   "execution_count": 33,
   "metadata": {},
   "outputs": [
    {
     "name": "stdout",
     "output_type": "stream",
     "text": [
      "Average offset for model 2: 0.03178003830164079\n"
     ]
    },
    {
     "data": {
      "image/png": "[encoded data removed]",
      "text/plain": [
       "<Figure size 432x288 with 1 Axes>"
      ]
     },
     "metadata": {},
     "output_type": "display_data"
    }
   ],
   "source": [
    "plt.hist(offset_time_1, bins = 40)\n",
    "print('Average offset for model 2:',np.mean(offset_time_1))\n",
    "plt.show()"
   ]
  },
  {
   "cell_type": "markdown",
   "metadata": {},
   "source": [
    "As determined by the nature of the model, each bus is early/late based on a uniform distribution which is what we observe here.\n",
    "\n",
    "Here is the schedule offset histogram for model 3:"
   ]
  },
  {
   "cell_type": "code",
   "execution_count": 34,
   "metadata": {},
   "outputs": [
    {
     "name": "stdout",
     "output_type": "stream",
     "text": [
      "Average offset for model 3: 0.03149408143646739\n"
     ]
    },
    {
     "data": {
      "image/png": "[encoded data removed]",
      "text/plain": [
       "<Figure size 432x288 with 1 Axes>"
      ]
     },
     "metadata": {},
     "output_type": "display_data"
    }
   ],
   "source": [
    "plt.hist(offset_time_2, bins = 40)\n",
    "\n",
    "print('Average offset for model 3:', np.mean(offset_time_2))\n",
    "plt.show()"
   ]
  },
  {
   "cell_type": "markdown",
   "metadata": {},
   "source": [
    "We observe in the offset histogram from model 3 that it follows a normal distribution as instructed. This is also what we observe from both of the real life datasets. Thus, model 3 appears to be the best fit for the given data."
   ]
  },
  {
   "cell_type": "markdown",
   "metadata": {},
   "source": [
    "**(2.4)**"
   ]
  },
  {
   "cell_type": "markdown",
   "metadata": {},
   "source": [
    "From model 1 the average wait time is roughly 9.5, however for both model 2 and 3 average wait times are in fact roughly five minutes. This is average is reported above for each model. Furthermore, the offset time is similar to that of model 3, which implies a similar wait time. Thus, an average wait time of 5 minutes is to be expected for models 2 and 3 and the real world data."
   ]
  },
  {
   "cell_type": "markdown",
   "metadata": {},
   "source": [
    "## Question 3: Monte Carlo Integration"
   ]
  },
  {
   "cell_type": "markdown",
   "metadata": {},
   "source": [
    "Our function"
   ]
  },
  {
   "cell_type": "code",
   "execution_count": 6,
   "metadata": {},
   "outputs": [],
   "source": [
    "def func(x):\n",
    "    return x**3*np.sin(x)+x**2+50"
   ]
  },
  {
   "cell_type": "markdown",
   "metadata": {},
   "source": [
    "(3.1) Numerical method of Monte Carlo integration"
   ]
  },
  {
   "cell_type": "code",
   "execution_count": 7,
   "metadata": {},
   "outputs": [],
   "source": [
    "def integratemonte(N,a,b):\n",
    "    x = np.random.uniform(a,b,N)\n",
    "    result = np.mean(func(x))\n",
    "    \n",
    "    return (b-a)*result"
   ]
  },
  {
   "cell_type": "markdown",
   "metadata": {},
   "source": [
    "(3.2) Using your function, calculate the integral"
   ]
  },
  {
   "cell_type": "markdown",
   "metadata": {},
   "source": [
    "The result of the Monte Carlo integration for 50 number of points between 0 and 5 "
   ]
  },
  {
   "cell_type": "code",
   "execution_count": 11,
   "metadata": {},
   "outputs": [
    {
     "name": "stdout",
     "output_type": "stream",
     "text": [
      "201.01460654859255\n"
     ]
    }
   ],
   "source": [
    "num_result = integratemonte(50,0,5)\n",
    "print(num_result)"
   ]
  },
  {
   "cell_type": "markdown",
   "metadata": {},
   "source": [
    "This is the analytical solution(left) and standard error (right) using the scipy.integrate module."
   ]
  },
  {
   "cell_type": "code",
   "execution_count": 9,
   "metadata": {},
   "outputs": [
    {
     "name": "stdout",
     "output_type": "stream",
     "text": [
      "(198.5529840959036, 2.6301143952488766e-12)\n"
     ]
    }
   ],
   "source": [
    "result2 = integrate.quad(func,0,5)\n",
    "print(result2)"
   ]
  },
  {
   "cell_type": "code",
   "execution_count": 41,
   "metadata": {},
   "outputs": [
    {
     "data": {
      "image/png": "[encoded data removed]",
      "text/plain": [
       "<Figure size 432x288 with 1 Axes>"
      ]
     },
     "metadata": {
      "needs_background": "light"
     },
     "output_type": "display_data"
    }
   ],
   "source": [
    "n = np.arange(1,10**4)\n",
    "result = np.zeros(len(n))\n",
    "\n",
    "for i in range(len(n)):\n",
    "    result[i] = integratemonte(n[i],0,5)\n",
    "    \n",
    "plt.plot(n,result)\n",
    "plt.xlabel(\"Number of Points\")\n",
    "plt.ylabel(\"Integration Result\")\n",
    "plt.show()"
   ]
  },
  {
   "cell_type": "markdown",
   "metadata": {},
   "source": [
    "(3.3) The error term for Monte Carlo integration"
   ]
  },
  {
   "cell_type": "markdown",
   "metadata": {},
   "source": [
    "Function for the standard error using the given formula"
   ]
  },
  {
   "cell_type": "code",
   "execution_count": 7,
   "metadata": {},
   "outputs": [],
   "source": [
    "def error(N,a,b):\n",
    "    x = np.linspace(a,b,num=N)\n",
    "    \n",
    "    f1 = np.sum(func(x)**2)/N\n",
    "    f2 = (np.sum(func(x))/N)**2\n",
    "    \n",
    "    result = (b-a)*np.sqrt((f1-f2)/N)\n",
    "    \n",
    "    return result"
   ]
  },
  {
   "cell_type": "markdown",
   "metadata": {},
   "source": [
    "Calculating the standard error for number of points from 1 to 10,000"
   ]
  },
  {
   "cell_type": "code",
   "execution_count": 8,
   "metadata": {},
   "outputs": [],
   "source": [
    "N = np.arange(1,10**4+1)\n",
    "result = np.zeros(len(N))\n",
    "\n",
    "for i in range(len(N)):\n",
    "    result[i] = error(N[i],0,5)\n",
    "\n"
   ]
  },
  {
   "cell_type": "code",
   "execution_count": 9,
   "metadata": {},
   "outputs": [
    {
     "data": {
      "image/png": "[encoded data removed]",
      "text/plain": [
       "<Figure size 432x288 with 1 Axes>"
      ]
     },
     "metadata": {
      "needs_background": "light"
     },
     "output_type": "display_data"
    }
   ],
   "source": [
    "plt.plot(N,result)\n",
    "plt.xlabel(\"Number of Points\")\n",
    "plt.ylabel(\"Error\")\n",
    "plt.title(\"Standard Error\")\n",
    "plt.show()"
   ]
  },
  {
   "cell_type": "code",
   "execution_count": 10,
   "metadata": {},
   "outputs": [
    {
     "data": {
      "image/png": "[encoded data removed]",
      "text/plain": [
       "<Figure size 432x288 with 1 Axes>"
      ]
     },
     "metadata": {
      "needs_background": "light"
     },
     "output_type": "display_data"
    }
   ],
   "source": [
    "plt.loglog(N,result)\n",
    "plt.xlabel(\"Number of Points\")\n",
    "plt.ylabel(\"Error\")\n",
    "plt.title(\"Standard Error on Logarithmic Scale\")\n",
    "plt.show()"
   ]
  },
  {
   "cell_type": "markdown",
   "metadata": {},
   "source": [
    "Clearly we could say that as the number of points increases, the standard error decreases exponentially. To find the number of points needed for one decimal place of accurate intergration, we need our standard deviation to be around 0.05 so that rounding the result would give us the exact solution.\n",
    "\n",
    "Therefore we must find the slope of the line in the logarithmic plot. Knowing the slope and the value of y (0.05), we can find the value of x which is the number of points required for one decimal accuracy. Finding the slope would give us the line that fit on the logarithmic plot, and with that equation we could find the value of x."
   ]
  },
  {
   "cell_type": "markdown",
   "metadata": {},
   "source": [
    "Equation of line is y = mx+b where m is the slope."
   ]
  },
  {
   "cell_type": "code",
   "execution_count": 12,
   "metadata": {},
   "outputs": [
    {
     "name": "stdout",
     "output_type": "stream",
     "text": [
      "9.984572447823496\n"
     ]
    },
    {
     "name": "stderr",
     "output_type": "stream",
     "text": [
      "/usr/local/lib/python3.7/site-packages/ipykernel_launcher.py:1: RuntimeWarning: divide by zero encountered in log\n",
      "  \"\"\"Entry point for launching an IPython kernel.\n"
     ]
    }
   ],
   "source": [
    "log_result = np.log(result)\n",
    "log_n = np.log(N)\n",
    "\n",
    "slope = np.polyfit(log_n[-50:],log_result[-50:],1)[0]\n",
    "\n",
    "#Choose a point on the line\n",
    "\n",
    "y =log_result[-100]\n",
    "x =log_n[-100]\n",
    "\n",
    "b = y-x*slope\n",
    "\n",
    "y_result = 0.05\n",
    "\n",
    "x_result = (y_result-b)/slope\n",
    "\n",
    "#Since x_result is on a logarithmic scale the actual solution is\n",
    "print(x_result)\n",
    "\n",
    "#solution = 10**x_result"
   ]
  },
  {
   "cell_type": "markdown",
   "metadata": {},
   "source": [
    "Our final estimate for precision to one decimal place is 10^9.845 points."
   ]
  },
  {
   "cell_type": "markdown",
   "metadata": {},
   "source": [
    "(3.4) Briefly discuss (with examples) an advantage and disadvantage of Monte Carlo integration as compared to a traditional technique such as the trapezoidal rule."
   ]
  },
  {
   "cell_type": "markdown",
   "metadata": {},
   "source": [
    "Since Monte Carlo integration uses random values, the final result is an approximation of the true value. Therefore one of the disadvantages for this method is that it requires the law of large numbers to reduce the standard error (that is why we need to use logarithmic scale for both axes). In other words, a large number of points is required for accurate values. In contrast, the methodical nature of using the trapezoidal rule allows us to gradually and more predictably approach the true integral value.\n",
    "\n",
    "However, the randomness of Monte Carlo integration also provides an advantage. Since it uses random numbers, we could observe that the output of our function varies if we call it multiple times even though we use the same arguments. It could give as the same precision of integration result with lower number of points compared to other methods that are heavily rely on large number of slices. Therefore, in some cases the amount of work to calculate the precise integral is less when compared with other methods such as the trapezoidal rule, where many slices must be calculated to provide accurate results.\n",
    "\n",
    "\n"
   ]
  },
  {
   "cell_type": "code",
   "execution_count": null,
   "metadata": {},
   "outputs": [],
   "source": []
  }
 ],
 "metadata": {
  "kernelspec": {
   "display_name": "Python 3",
   "language": "python",
   "name": "python3"
  },
  "language_info": {
   "codemirror_mode": {
    "name": "ipython",
    "version": 3
   },
   "file_extension": ".py",
   "mimetype": "text/x-python",
   "name": "python",
   "nbconvert_exporter": "python",
   "pygments_lexer": "ipython3",
   "version": "3.7.3"
  }
 },
 "nbformat": 4,
 "nbformat_minor": 2
}
