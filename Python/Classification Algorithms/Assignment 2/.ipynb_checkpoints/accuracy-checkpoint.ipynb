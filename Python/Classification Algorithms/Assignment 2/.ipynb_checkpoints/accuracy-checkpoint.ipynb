{
 "cells": [
  {
   "cell_type": "code",
   "execution_count": 1,
   "metadata": {},
   "outputs": [],
   "source": [
    "import numpy as np"
   ]
  },
  {
   "cell_type": "code",
   "execution_count": null,
   "metadata": {},
   "outputs": [],
   "source": [
    "#This is for NB accuracy"
   ]
  },
  {
   "cell_type": "code",
   "execution_count": 18,
   "metadata": {},
   "outputs": [
    {
     "data": {
      "text/plain": [
       "array([['\\ufefffold1', '', '', ..., '', '', ''],\n",
       "       ['0.058824', '0.264516', '0.428571', ..., '0.116567', '0.166667',\n",
       "        'no'],\n",
       "       ['0.058824', '0.290323', '0.428571', ..., '0.038002', '0', 'no'],\n",
       "       ...,\n",
       "       ['0.352941', '0.941935', '0.693878', ..., '0.085397', '0.75',\n",
       "        'yes'],\n",
       "       ['0.529412', '0.812903', '0.510204', ..., '0.13877', '0.366667',\n",
       "        'yes'],\n",
       "       ['0.058824', '0.529032', '0.367347', ..., '0.115713', '0.433333',\n",
       "        'yes']], dtype='<U8')"
      ]
     },
     "execution_count": 18,
     "metadata": {},
     "output_type": "execute_result"
    }
   ],
   "source": [
    "#Users/lmh16/Desktop/OneDrive - The University of Sydney (Students)/year 3/COMP3308/Assignment/Assignment 2\n",
    "\n",
    "#C:/Users/zacda_sflvbog/OneDrive/3Y1S/Comp3308/assignment2\n",
    "\n",
    "foldsFile = open('pima-folds.csv','r') # change file for regular pima-folds or folds with feature selection\n",
    "\n",
    "\n",
    "rowfolds = foldsFile.read().strip('\\n').split('\\n')\n",
    "dfFold = []\n",
    "\n",
    "for i in range(len(rowfolds)):\n",
    "\n",
    "    row = rowfolds[i].split(',')\n",
    "\n",
    "    dfFold.append(row)\n",
    "    \n",
    "dfFold = np.array(dfFold)\n",
    "\n",
    "\n",
    "\n",
    "fold_list = [[],[],[],[],[],[],[],[],[],[]]\n",
    "i = 0\n",
    "not_good = ['ï»¿fold1','','fold1','fold2','fold3','fold4','fold5','fold6','fold7','fold8','fold9','fold10','\\ufefffold1']\n",
    "for row in dfFold:\n",
    "    \n",
    "    if row[0] in not_good:\n",
    "        i+= 0.5\n",
    "    else:\n",
    "        fold_list[int(i)].append(row)\n",
    "\n",
    "fold_list[0][0]\n",
    "\n",
    "for i in range(0,len(fold_list)):        \n",
    "    fold_list[i] = np.array(fold_list[i])\n",
    "    \n",
    "fold_list = np.array(fold_list)\n",
    "\n",
    "dfFold"
   ]
  },
  {
   "cell_type": "code",
   "execution_count": null,
   "metadata": {},
   "outputs": [],
   "source": []
  },
  {
   "cell_type": "code",
   "execution_count": null,
   "metadata": {},
   "outputs": [],
   "source": []
  },
  {
   "cell_type": "code",
   "execution_count": null,
   "metadata": {},
   "outputs": [],
   "source": []
  },
  {
   "cell_type": "code",
   "execution_count": null,
   "metadata": {},
   "outputs": [],
   "source": []
  },
  {
   "cell_type": "code",
   "execution_count": 3,
   "metadata": {},
   "outputs": [],
   "source": [
    "import numpy as np\n",
    "\n",
    "def euclid_dist(data,inputs):\n",
    "\n",
    "    return np.sqrt((np.sum(np.square(inputs - data),1)))\n",
    "\n",
    "def knn(k,trainingset, testset):\n",
    "\n",
    "    trainingvals = np.array(np.delete(trainingset,-1,1),dtype = float)\n",
    "    testvals = np.array(np.delete(testset,-1,1),dtype = float)\n",
    "    preds = []\n",
    "    actual_preds = testset[:,-1]\n",
    "    for val in testvals:\n",
    "        #print(val)\n",
    "        distances = euclid_dist(trainingvals,val)\n",
    "        #print()\n",
    "        distances = distances.reshape(1,distances.shape[0]).transpose()\n",
    "        #print(distances[0:3])\n",
    "        neighbours = []\n",
    "        for i in range(distances.shape[0]):\n",
    "            neighbours.append({'distance':distances[i][0],'class':trainingset[i][-1]})\n",
    "\n",
    "        neighbours = sorted(neighbours, key = lambda i: i['distance'])\n",
    "\n",
    "        k_points = neighbours[0:k]\n",
    "        #print(k_points)\n",
    "        count_yes = 0\n",
    "        count_no = 0\n",
    "        \n",
    "        for row in k_points:\n",
    "            if row['class'] == 'yes':\n",
    "                count_yes += 1\n",
    "            if row['class'] == 'no':\n",
    "                count_no += 1\n",
    "        if count_yes > count_no:\n",
    "            preds.append('yes')\n",
    "        if count_yes < count_no:\n",
    "            preds.append('no')\n",
    "        if count_yes == count_no:\n",
    "            preds.append('yes')\n",
    "    \n",
    "    return (sum(preds == actual_preds)/len(actual_preds))\n",
    "#knn(1,dfTrain,dfTest)"
   ]
  },
  {
   "cell_type": "code",
   "execution_count": 4,
   "metadata": {},
   "outputs": [],
   "source": [
    "trainingfold = []\n",
    "#print(len(fold_list))\n",
    "fold_acc1 = []\n",
    "fold_acc5 = []\n",
    "to_die = fold_list\n",
    "for i in range(0,len(fold_list)):\n",
    "    trainingfold = to_die[i]\n",
    "    testfold = np.delete(to_die,i)[0]\n",
    "    \n",
    "    fold_acc1.append(knn(1,trainingfold,testfold))\n",
    "    fold_acc5.append(knn(5,trainingfold,testfold))\n",
    "    \n",
    "    to_die = fold_list\n"
   ]
  },
  {
   "cell_type": "code",
   "execution_count": 5,
   "metadata": {},
   "outputs": [
    {
     "data": {
      "text/plain": [
       "(0.6714285714285715, 0.7090909090909092)"
      ]
     },
     "execution_count": 5,
     "metadata": {},
     "output_type": "execute_result"
    }
   ],
   "source": [
    "avg_acc1 = sum(fold_acc1)/len(fold_acc1)\n",
    "avg_acc5 = sum(fold_acc5)/len(fold_acc5)\n",
    "avg_acc1,avg_acc5"
   ]
  },
  {
   "cell_type": "code",
   "execution_count": 6,
   "metadata": {},
   "outputs": [
    {
     "data": {
      "text/plain": [
       "(0.6714285714285715, 0.7090909090909092)"
      ]
     },
     "execution_count": 6,
     "metadata": {},
     "output_type": "execute_result"
    }
   ],
   "source": [
    "avg_acc1 = sum(fold_acc1)/len(fold_acc1)\n",
    "avg_acc5 = sum(fold_acc5)/len(fold_acc5)\n",
    "avg_acc1,avg_acc5"
   ]
  },
  {
   "cell_type": "code",
   "execution_count": 7,
   "metadata": {},
   "outputs": [],
   "source": [
    "# NB stuff now "
   ]
  },
  {
   "cell_type": "code",
   "execution_count": 4,
   "metadata": {},
   "outputs": [],
   "source": [
    "import numpy as np\n",
    "import math\n",
    "from Classifier.NB import NB"
   ]
  },
  {
   "cell_type": "code",
   "execution_count": null,
   "metadata": {},
   "outputs": [],
   "source": []
  },
  {
   "cell_type": "code",
   "execution_count": null,
   "metadata": {},
   "outputs": [],
   "source": []
  },
  {
   "cell_type": "code",
   "execution_count": 19,
   "metadata": {},
   "outputs": [],
   "source": [
    "trainingfold = []\n",
    "#print(len(fold_list))\n",
    "fold_accNB = []\n",
    "\n",
    "to_die = fold_list\n",
    "\n",
    "\n",
    "for i in range(0,len(fold_list)):\n",
    "    testfold = np.asarray(to_die[i])\n",
    "    \n",
    "    \n",
    "    \n",
    "    trainingfold =  np.concatenate(np.delete(to_die, i))\n",
    "    \n",
    "    \n",
    "    pred = NB.nb(trainingfold,testfold)\n",
    "    \n",
    "   \n",
    "  \n",
    "    \n",
    "    \n",
    "    for i in range(len(pred)):\n",
    "\n",
    "        if pred[i] == testfold[i,-1]:\n",
    "\n",
    "            fold_accNB.append(1)\n",
    "        else:\n",
    "            fold_accNB.append(0)\n",
    "\n",
    "    \n",
    "    to_die = fold_list"
   ]
  },
  {
   "cell_type": "code",
   "execution_count": 20,
   "metadata": {},
   "outputs": [
    {
     "data": {
      "text/plain": [
       "0.7526041666666666"
      ]
     },
     "execution_count": 20,
     "metadata": {},
     "output_type": "execute_result"
    }
   ],
   "source": [
    "avg_accNB = sum(fold_accNB)/len(fold_accNB)\n",
    "avg_accNB"
   ]
  },
  {
   "cell_type": "code",
   "execution_count": null,
   "metadata": {},
   "outputs": [],
   "source": []
  },
  {
   "cell_type": "code",
   "execution_count": null,
   "metadata": {},
   "outputs": [],
   "source": []
  },
  {
   "cell_type": "code",
   "execution_count": null,
   "metadata": {},
   "outputs": [],
   "source": []
  },
  {
   "cell_type": "code",
   "execution_count": null,
   "metadata": {},
   "outputs": [],
   "source": []
  },
  {
   "cell_type": "code",
   "execution_count": null,
   "metadata": {},
   "outputs": [],
   "source": []
  },
  {
   "cell_type": "code",
   "execution_count": null,
   "metadata": {},
   "outputs": [],
   "source": []
  },
  {
   "cell_type": "code",
   "execution_count": null,
   "metadata": {},
   "outputs": [],
   "source": []
  },
  {
   "cell_type": "code",
   "execution_count": null,
   "metadata": {},
   "outputs": [],
   "source": []
  },
  {
   "cell_type": "code",
   "execution_count": null,
   "metadata": {},
   "outputs": [],
   "source": []
  },
  {
   "cell_type": "code",
   "execution_count": null,
   "metadata": {},
   "outputs": [],
   "source": []
  },
  {
   "cell_type": "code",
   "execution_count": null,
   "metadata": {},
   "outputs": [],
   "source": []
  },
  {
   "cell_type": "code",
   "execution_count": null,
   "metadata": {},
   "outputs": [],
   "source": []
  },
  {
   "cell_type": "code",
   "execution_count": null,
   "metadata": {},
   "outputs": [],
   "source": []
  },
  {
   "cell_type": "code",
   "execution_count": null,
   "metadata": {},
   "outputs": [],
   "source": []
  },
  {
   "cell_type": "code",
   "execution_count": null,
   "metadata": {},
   "outputs": [],
   "source": []
  },
  {
   "cell_type": "code",
   "execution_count": null,
   "metadata": {},
   "outputs": [],
   "source": []
  },
  {
   "cell_type": "code",
   "execution_count": null,
   "metadata": {},
   "outputs": [],
   "source": []
  },
  {
   "cell_type": "code",
   "execution_count": null,
   "metadata": {},
   "outputs": [],
   "source": []
  },
  {
   "cell_type": "code",
   "execution_count": null,
   "metadata": {},
   "outputs": [],
   "source": []
  },
  {
   "cell_type": "code",
   "execution_count": null,
   "metadata": {},
   "outputs": [],
   "source": []
  },
  {
   "cell_type": "code",
   "execution_count": null,
   "metadata": {},
   "outputs": [],
   "source": []
  },
  {
   "cell_type": "code",
   "execution_count": null,
   "metadata": {},
   "outputs": [],
   "source": []
  },
  {
   "cell_type": "code",
   "execution_count": null,
   "metadata": {},
   "outputs": [],
   "source": []
  },
  {
   "cell_type": "code",
   "execution_count": null,
   "metadata": {},
   "outputs": [],
   "source": []
  }
 ],
 "metadata": {
  "kernelspec": {
   "display_name": "Python 3",
   "language": "python",
   "name": "python3"
  },
  "language_info": {
   "codemirror_mode": {
    "name": "ipython",
    "version": 3
   },
   "file_extension": ".py",
   "mimetype": "text/x-python",
   "name": "python",
   "nbconvert_exporter": "python",
   "pygments_lexer": "ipython3",
   "version": "3.7.4"
  }
 },
 "nbformat": 4,
 "nbformat_minor": 2
}
