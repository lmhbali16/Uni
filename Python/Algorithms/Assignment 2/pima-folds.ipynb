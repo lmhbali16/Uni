{
 "cells": [
  {
   "cell_type": "code",
   "execution_count": null,
   "metadata": {},
   "outputs": [],
   "source": [
    "import numpy as np\n",
    "\n",
    "\n",
    "#C:/Users/zacda_sflvbog/OneDrive/3Y1S/Comp3308/assignment2/AI-master\n",
    "#/Users/lmh16/Desktop/OneDrive - The University of Sydney (Students)/year 3/COMP3308/Assignment/Assignment 2\n",
    "to_fold = open('/Users/lmh16/Desktop/OneDrive - The University of Sydney (Students)/year 3/COMP3308/Assignment/Assignment 2/pima.csv', \"r\")\n",
    "rowFold = to_fold.read().strip('\\n').split('\\n')\n",
    "dfFold = []\n",
    "\n",
    "for i in range(len(rowFold)):\n",
    "\n",
    "    row = rowFold[i].split(',')\n",
    "\n",
    "    dfFold.append(row)\n",
    "    \n",
    "dfFold = np.array(dfFold)"
   ]
  },
  {
   "cell_type": "code",
   "execution_count": null,
   "metadata": {},
   "outputs": [],
   "source": [
    "propy = len(dfFold[dfFold[:,-1] == 'yes'])/len(dfFold)\n",
    "propn = 1 - propy\n",
    "\n",
    "num_folds = 10\n",
    "foldsize = len(dfFold)/num_folds\n",
    "fold_neg = int(foldsize*propn)\n",
    "fold_pos = int(foldsize*propy)\n",
    "\n",
    "\n",
    "dfFoldpos = dfFold[dfFold[:,-1] == 'yes']\n",
    "dfFoldneg = dfFold[dfFold[:,-1] == 'no']\n",
    "\n",
    "len(dfFoldpos),len(dfFoldneg),len(dfFold)\n",
    "\n",
    "folds = []\n",
    "count = 0\n",
    "while count < num_folds:\n",
    "    \n",
    "    folds.append('fold'+str(count+1))\n",
    "    print(folds)\n",
    "    for i in range(fold_neg*count,fold_neg*count + fold_neg):\n",
    "        folds.append(list(dfFoldneg[i]))\n",
    "        \n",
    "        \n",
    "    for i in range(fold_pos*count,fold_pos*count + fold_pos):\n",
    "        folds.append(list(dfFoldpos[i]))\n",
    "        \n",
    "    count += 1"
   ]
  },
  {
   "cell_type": "code",
   "execution_count": null,
   "metadata": {},
   "outputs": [],
   "source": [
    "folds[0:80]"
   ]
  },
  {
   "cell_type": "code",
   "execution_count": null,
   "metadata": {},
   "outputs": [],
   "source": [
    "import csv\n",
    "\n",
    "with open(\"pima-folds.csv\", \"w\", newline=\"\") as f:\n",
    "    writer = csv.writer(f)\n",
    "    writer.writerows(folds)"
   ]
  },
  {
   "cell_type": "code",
   "execution_count": null,
   "metadata": {},
   "outputs": [],
   "source": []
  }
 ],
 "metadata": {
  "kernelspec": {
   "display_name": "Python 3",
   "language": "python",
   "name": "python3"
  },
  "language_info": {
   "codemirror_mode": {
    "name": "ipython",
    "version": 3
   },
   "file_extension": ".py",
   "mimetype": "text/x-python",
   "name": "python",
   "nbconvert_exporter": "python",
   "pygments_lexer": "ipython3",
   "version": "3.7.4"
  }
 },
 "nbformat": 4,
 "nbformat_minor": 2
}
